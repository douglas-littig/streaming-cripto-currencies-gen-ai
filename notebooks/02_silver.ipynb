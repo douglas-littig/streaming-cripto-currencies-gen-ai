{
 "cells": [
  {
   "cell_type": "code",
   "execution_count": null,
   "metadata": {},
   "outputs": [],
   "source": [
    "from pyspark.sql import SparkSession\n",
    "from pyspark.sql.functions import *\n",
    "from pyspark.sql.types import *\n",
    "from delta.tables import *\n",
    "\n",
    "# Spark session\n",
    "spark = SparkSession.builder \\\n",
    "    .appName(\"SilverLayer\") \\\n",
    "    .config(\"spark.jars.packages\", \"io.delta:delta-spark_2.12:3.1.0\") \\\n",
    "    .config(\"spark.sql.extensions\", \"io.delta.sql.DeltaSparkSessionExtension\") \\\n",
    "    .config(\"spark.sql.catalog.spark_catalog\", \"org.apache.spark.sql.delta.catalog.DeltaCatalog\") \\\n",
    "    .getOrCreate()\n",
    "\n",
    "# Read from bronze layer\n",
    "bronze_path = \"/opt/bitnami/spark/data/bronze\"\n",
    "df_bronze = spark.readStream.format(\"delta\").load(bronze_path)\n",
    "\n",
    "# Data cleaning and transformation\n",
    "df_silver = df_bronze.withColumn(\"amount\", col(\"amount\").cast(DecimalType(18, 2))) \\\n",
    "    .withColumnRenamed(\"base\", \"crypto_base\") \\\n",
    "    .withColumnRenamed(\"currency\", \"quote_currency\") \\\n",
    "    .withColumn(\"timestamp\", col(\"timestamp\").cast(TimestampType())) \\\n",
    "    .dropDuplicates([\"crypto_base\", \"quote_currency\", \"timestamp\"])\n",
    "\n",
    "# Write to silver layer (upsert)\n",
    "silver_path = \"/opt/bitnami/spark/data/silver\"\n",
    "checkpoint_path = \"/opt/bitnami/spark/data/silver_checkpoint\"\n",
    "\n",
    "def upsert_to_delta(micro_batch_df, batch_id):\n",
    "    delta_table = DeltaTable.forPath(spark, silver_path)\n",
    "    delta_table.alias(\"t\") \\\n",
    "        .merge(\n",
    "            micro_batch_df.alias(\"s\"),\n",
    "            \"t.crypto_base = s.crypto_base AND t.quote_currency = s.quote_currency AND t.timestamp = s.timestamp\"\n",
    "        ) \\\n",
    "        .whenMatchedUpdateAll() \\\n",
    "        .whenNotMatchedInsertAll() \\\n",
    "        .execute()\n",
    "\n",
    "query = df_silver.writeStream \\\n",
    "    .foreachBatch(upsert_to_delta) \\\n",
    "    .outputMode(\"update\") \\\n",
    "    .option(\"checkpointLocation\", checkpoint_path) \\\n",
    "    .start()\n",
    "\n",
    "query.awaitTermination()"
   ]
  }
 ],
 "metadata": {
  "kernelspec": {
   "display_name": "Python 3",
   "language": "python",
   "name": "python3"
  },
  "language_info": {
   "codemirror_mode": {
    "name": "ipython",
    "version": 3
   },
   "file_extension": ".py",
   "mimetype": "text/x-python",
   "name": "python",
   "nbconvert_exporter": "python",
   "pygments_lexer": "ipython3",
   "version": "3.12.11"
  }
 },
 "nbformat": 4,
 "nbformat_minor": 4
}
