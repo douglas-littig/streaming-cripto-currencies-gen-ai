{
 "cells": [
  {
   "cell_type": "code",
   "execution_count": null,
   "metadata": {},
   "outputs": [],
   "source": [
    "from pyspark.sql import SparkSession\n",
    "from pyspark.sql.functions import *\n",
    "from pyspark.sql.types import *\n",
    "from delta.tables import *\n",
    "\n",
    "# Spark session\n",
    "spark = SparkSession.builder \\\n",
    "    .appName(\"GoldLayer\") \\\n",
    "    .config(\"spark.jars.packages\", \"io.delta:delta-spark_2.12:3.1.0\") \\\n",
    "    .config(\"spark.sql.extensions\", \"io.delta.sql.DeltaSparkSessionExtension\") \\\n",
    "    .config(\"spark.sql.catalog.spark_catalog\", \"org.apache.spark.sql.delta.catalog.DeltaCatalog\") \\\n",
    "    .getOrCreate()\n",
    "\n",
    "# Read from silver layer\n",
    "silver_path = \"/opt/bitnami/spark/data/silver\"\n",
    "df_silver = spark.readStream.format(\"delta\").load(silver_path)\n",
    "\n",
    "# Business aggregations\n",
    "df_gold = df_silver.groupBy(\"crypto_base\", \"quote_currency\") \\\n",
    "    .agg(\n",
    "        avg(\"amount\").alias(\"avg_price\"),\n",
    "        max(\"amount\").alias(\"max_price\"),\n",
    "        min(\"amount\").alias(\"min_price\"),\n",
    "        max(\"timestamp\").alias(\"latest_timestamp\")\n",
    "    )\n",
    "\n",
    "# Write to gold layer\n",
    "gold_path = \"/opt/bitnami/spark/data/gold\"\n",
    "checkpoint_path = \"/opt/bitnami/spark/data/gold_checkpoint\"\n",
    "\n",
    "query = df_gold.writeStream \\\n",
    "    .format(\"delta\") \\\n",
    "    .outputMode(\"complete\") \\\n",
    "    .option(\"checkpointLocation\", checkpoint_path) \\\n",
    "    .start(gold_path)\n",
    "\n",
    "query.awaitTermination()"
   ]
  }
 ],
 "metadata": {
  "kernelspec": {
   "display_name": "Python 3",
   "language": "python",
   "name": "python3"
  },
  "language_info": {
   "codemirror_mode": {
    "name": "ipython",
    "version": 3
   },
   "file_extension": ".py",
   "mimetype": "text/x-python",
   "name": "python",
   "nbconvert_exporter": "python",
   "pygments_lexer": "ipython3",
   "version": "3.12.11"
  }
 },
 "nbformat": 4,
 "nbformat_minor": 4
}
